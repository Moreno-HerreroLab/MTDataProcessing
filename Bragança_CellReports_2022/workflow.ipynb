{
 "cells": [
  {
   "cell_type": "markdown",
   "id": "2b731d79",
   "metadata": {},
   "source": [
    "#### Workflow example:\n",
    "<ol>\n",
    "    <li>Data Correction:\n",
    "        <ol>\n",
    "            <li>Find the absolute value of the minimal extension for each DNA molecule (z0-files)</li>\n",
    "            <li>Correct the absolute extensions by substracting the minimal extension value to each data point</li>\n",
    "            <li>Plot the data from z0-files, corrected ID-files and corrected experiment-files with respect to time, for visual evaluation.</li>\n",
    "            <li>Visually evaluate each bead timecourse. Define which beads are to be excluded from data processing.</li>\n",
    "            Criteria to exclude beads:\n",
    "            <ul>\n",
    "                <li>Tethers with multiple DNA molecules (evaluated as described in literature)</li>\n",
    "                <li>DNA molecules that were not fully extended from the begining of the assay.</li>\n",
    "                <li>Beads that got stuck to the surface and/or to the bead (delta_z smaller than -0.5 um) for half of the duration of the assay.</li>\n",
    "                <li>Beads lost while tracking.</li>\n",
    "            </ul>\n",
    "        </ol>\n",
    "    </li><br>\n",
    "    <li>Data Collection:\n",
    "        <ol>\n",
    "            <li>For each of each area:\n",
    "                <ol>\n",
    "                    <li>Get baseline extension (maximum extension, step = 1)</li>\n",
    "                    <li>Classify force cycles (from step 2 forward)</li>\n",
    "                    <li>For each point of the dataset substract the baseline</li>\n",
    "                    <li>Plot each timecourse aligned to deltaZ to visual evaluation </li>\n",
    "                </ol>\n",
    "            </li>\n",
    "            <li>Create (or import) the pickle file in which all the data points from different beads, areas, and dates are stored for a particular protein/RNA combination.\n",
    "                <ol>\n",
    "                    <li>If exists, import. If not, create pickle file  for protein/RNA combination.</li>\n",
    "                    <li>For each new area, add beads to dictionary.</li>\n",
    "                    <li>Export updated pickle.</li>\n",
    "               </ol>\n",
    "            </li>\n",
    "        </ol>\n",
    "    </li><br>\n",
    "    <li>Data Processing:\n",
    "        <ol>\n",
    "            <li>Import the data for the conditions of choice\n",
    "            <li>Process the data per condition:\n",
    "               <ol>\n",
    "                   <li>Merge the extension data points for all beads</li>\n",
    "                   <li>Extract values of interest: total number of molecules and number of molecules with events</li>\n",
    "                   <li>For each cycle and molecule, extract the dwell time, initial extension and final extension</li>\n",
    "               </ol>\n",
    "            </li>\n",
    "            <li>Plot the extension distributions and the times distributions</li>\n",
    "        </ol>\n",
    "    </li>\n",
    "</ol>\n",
    "\n"
   ]
  },
  {
   "cell_type": "markdown",
   "id": "7fe9ea95",
   "metadata": {},
   "source": [
    "### Data Correction "
   ]
  },
  {
   "cell_type": "code",
   "execution_count": null,
   "id": "26ed8954",
   "metadata": {},
   "outputs": [],
   "source": [
    "%matplotlib notebook\n",
    "import corrections as corr\n",
    "corr.def_fig_parameters()"
   ]
  },
  {
   "cell_type": "code",
   "execution_count": null,
   "id": "22b30fd9",
   "metadata": {},
   "outputs": [],
   "source": [
    "folder = r'2021_12_15'\n",
    "condition = '71G+Ku+X4L4+NIHCO'\n",
    "z0 = [0,4,7,14,17,21]\n",
    "ID = [1,5,8,15,18,22]\n",
    "R = [2,6,9,16,19,23]\n",
    "corr.correction_by_areas(folder, z0, ID, R)"
   ]
  },
  {
   "cell_type": "markdown",
   "id": "d7583b63",
   "metadata": {},
   "source": [
    "### Data Processing"
   ]
  },
  {
   "cell_type": "code",
   "execution_count": 1,
   "id": "83ea52b1",
   "metadata": {},
   "outputs": [],
   "source": [
    "%matplotlib notebook\n",
    "import processing as proc\n",
    "import ipywidgets as widgets\n",
    "cm = 1/2.54 # conversion: 1 centimeter in inches "
   ]
  },
  {
   "cell_type": "markdown",
   "id": "197063d1",
   "metadata": {},
   "source": [
    "#### 01 - Merge all the data for each protein/RNA condition into a pickle file."
   ]
  },
  {
   "cell_type": "markdown",
   "id": "764620d6",
   "metadata": {},
   "source": [
    "Choose the folder, label the condition, define the files to be processed and list the beads to be excluded. "
   ]
  },
  {
   "cell_type": "code",
   "execution_count": 2,
   "id": "4e897998",
   "metadata": {},
   "outputs": [
    {
     "ename": "NameError",
     "evalue": "name 'values_align_to' is not defined",
     "output_type": "error",
     "traceback": [
      "\u001b[1;31m---------------------------------------------------------------------------\u001b[0m",
      "\u001b[1;31mNameError\u001b[0m                                 Traceback (most recent call last)",
      "\u001b[1;32m~\\AppData\\Local\\Temp/ipykernel_5844/4167577527.py\u001b[0m in \u001b[0;36m<module>\u001b[1;34m\u001b[0m\n\u001b[0;32m     10\u001b[0m \u001b[1;31m# for line in results: results_file_number, list_of_bead_numbers_to_exclude = line\u001b[0m\u001b[1;33m\u001b[0m\u001b[1;33m\u001b[0m\u001b[0m\n\u001b[0;32m     11\u001b[0m \u001b[1;33m\u001b[0m\u001b[0m\n\u001b[1;32m---> 12\u001b[1;33m \u001b[0mexpment\u001b[0m \u001b[1;33m=\u001b[0m \u001b[0mproc\u001b[0m\u001b[1;33m.\u001b[0m\u001b[0malign_classify_savepickle\u001b[0m\u001b[1;33m(\u001b[0m\u001b[0mdate\u001b[0m\u001b[1;33m,\u001b[0m \u001b[0mcondition\u001b[0m\u001b[1;33m,\u001b[0m \u001b[0mresults\u001b[0m\u001b[1;33m)\u001b[0m\u001b[1;33m\u001b[0m\u001b[1;33m\u001b[0m\u001b[0m\n\u001b[0m",
      "\u001b[1;32m~\\OneDrive\\CNB\\Project_NHEJ\\DATA\\scripts_for_paper\\processing.py\u001b[0m in \u001b[0;36malign_classify_savepickle\u001b[1;34m(folder, condition, results, save)\u001b[0m\n\u001b[0;32m     34\u001b[0m                                    \u001b[1;34m'low_force'\u001b[0m\u001b[1;33m:\u001b[0m \u001b[0mdata_low_force\u001b[0m\u001b[1;33m,\u001b[0m  \u001b[1;31m# data for the lower force steps\u001b[0m\u001b[1;33m\u001b[0m\u001b[1;33m\u001b[0m\u001b[0m\n\u001b[0;32m     35\u001b[0m                                    \u001b[1;34m'beads_labels'\u001b[0m\u001b[1;33m:\u001b[0m \u001b[0mbeads_labels\u001b[0m\u001b[1;33m,\u001b[0m\u001b[1;33m\u001b[0m\u001b[1;33m\u001b[0m\u001b[0m\n\u001b[1;32m---> 36\u001b[1;33m                                    \u001b[1;34m'z_aligned_to'\u001b[0m\u001b[1;33m:\u001b[0m \u001b[0mvalues_align_to\u001b[0m \u001b[1;31m# maximum extensions for each bead\u001b[0m\u001b[1;33m\u001b[0m\u001b[1;33m\u001b[0m\u001b[0m\n\u001b[0m\u001b[0;32m     37\u001b[0m                                   }\n\u001b[0;32m     38\u001b[0m \u001b[1;33m\u001b[0m\u001b[0m\n",
      "\u001b[1;31mNameError\u001b[0m: name 'values_align_to' is not defined"
     ]
    }
   ],
   "source": [
    "date = '2021_12_15' # folder where the data is located\n",
    "condition = '71G+Ku+X4L4+NIHCO' # experiment label\n",
    "\n",
    "results = [[2, [5,11,22]],\n",
    "           [6, [18,20,21]],\n",
    "           [9, [7,18,19,21]],\n",
    "           [16, [11,16,20]],\n",
    "           [19, [10,14]],\n",
    "           [23, [14,15,21]]]\n",
    "# for line in results: results_file_number, list_of_bead_numbers_to_exclude = line\n",
    "\n",
    "expment = proc.align_classify_savepickle(date, condition, results)"
   ]
  },
  {
   "cell_type": "markdown",
   "id": "62084faa",
   "metadata": {},
   "source": [
    "Plot the individual timecourses aligned to deltaz=0."
   ]
  },
  {
   "cell_type": "code",
   "execution_count": null,
   "id": "2eb52982",
   "metadata": {},
   "outputs": [],
   "source": [
    "fig, axs = plt.subplots(nrows=2, ncols=1, figsize=(6,4), sharex= True, \n",
    "                        gridspec_kw={'width_ratios':[1], 'height_ratios':[5, 1],\n",
    "                                     'top':.91, 'bottom':.13, 'hspace':0.05, 'left':.15, 'right':.99})\n",
    "\n",
    "def get_force(expment_aligned, time):\n",
    "    mag_pos = expment_aligned['Shift pos (mm)']\n",
    "    force = 10**(0.7344-0.31104*mag_pos)\n",
    "    x, y = time, force\n",
    "    axs[1].plot(x, y, color='blue')\n",
    "\n",
    "areas=list(expment.keys())\n",
    "def update_area(area):\n",
    "    expment_processed = expment[f'{area}']\n",
    "    max_bead = len(expment_processed['beads_labels'])\n",
    "    def update_bead(number):\n",
    "        axs[0].clear(); axs[1].clear();\n",
    "        # ---\n",
    "        label = expment_processed['beads_labels'][number]\n",
    "        name = label.split('-')[0]\n",
    "        aligned = expment_processed['aligned']\n",
    "        extension = aligned[label]\n",
    "        time = aligned['Time (sg)']\n",
    "        # ---\n",
    "        fig.suptitle(f'{date}_{condition}_{area}_{name}')\n",
    "        # ---\n",
    "        x, y = time, extension\n",
    "        axs[0].scatter(x, y, c='tomato', s=1, marker='.', alpha=0.5, label = f'{condition}')\n",
    "        axs[0].set(ylabel='∆Z (µm)', ylim=(-1.40, 0.2))\n",
    "        lines = [0, -0.21]\n",
    "        [axs[0].axhline((value), 0, 1, ls = ':', color='black', ms = 1) for value in lines]\n",
    "        # ---\n",
    "        get_force(aligned, time)\n",
    "        axs[1].set(xlim=(time.min(), time.max()), xlabel='Time (s)',\n",
    "                   ylim=(-0.2,2.4), ylabel='F (pN)')\n",
    "    \n",
    "    widgets.interact(update_bead, number=widgets.BoundedIntText(min=0, max=max_bead-1, step=1, description='bead:'))\n",
    "widgets.interact(update_area,\n",
    "                 area=widgets.Dropdown(options=areas, value=areas[0], description='area:'))"
   ]
  },
  {
   "cell_type": "markdown",
   "id": "054a626b",
   "metadata": {},
   "source": [
    "Create or import a pickle file for the protein/RNA combination and save the data to the pickle file."
   ]
  },
  {
   "cell_type": "code",
   "execution_count": null,
   "id": "fa1ddc91",
   "metadata": {},
   "outputs": [],
   "source": [
    "_ = proc.process_and_save_all(date, condition, results, save=True)"
   ]
  },
  {
   "cell_type": "markdown",
   "id": "1bd4bc4f",
   "metadata": {},
   "source": [
    "#### 02 - Import the pickle files for the conditions we want to process and compare."
   ]
  },
  {
   "cell_type": "code",
   "execution_count": null,
   "id": "16a1c0e6",
   "metadata": {},
   "outputs": [],
   "source": [
    "%matplotlib notebook\n",
    "import processing as proc\n",
    "import matplotlib.pyplot as plt\n",
    "import numpy as np\n",
    "import os\n",
    "cm = 1/2.54 # conversion: 1 centimeter in inches "
   ]
  },
  {
   "cell_type": "markdown",
   "id": "e73fce64",
   "metadata": {},
   "source": [
    "Import the data within the dictionaries grouped by condition:"
   ]
  },
  {
   "cell_type": "code",
   "execution_count": null,
   "id": "a661a74d",
   "metadata": {},
   "outputs": [],
   "source": [
    "pickle_path = os.path.join('Pickles')\n",
    "dataset = proc.manage_data_from_pickles(folder_path=pickle_path)\n",
    "conditions = list(dataset.keys())\n",
    "print('Finished!')"
   ]
  },
  {
   "cell_type": "markdown",
   "id": "f4311a60",
   "metadata": {},
   "source": [
    "Process the data and extract parameters of interest (times and deltas_z). Merge the data points for each condition."
   ]
  },
  {
   "cell_type": "code",
   "execution_count": null,
   "id": "064eb296",
   "metadata": {},
   "outputs": [],
   "source": [
    "dataset_processed, dataset_merged = proc.process_and_merge(dataset, conditions)"
   ]
  },
  {
   "cell_type": "markdown",
   "id": "0c55fa1d",
   "metadata": {},
   "source": [
    "Define the function to plot the position distributions"
   ]
  },
  {
   "cell_type": "code",
   "execution_count": null,
   "id": "92c24e27",
   "metadata": {},
   "outputs": [],
   "source": [
    "# FIGURE Example\n",
    "fig_name = 'Fig_example'\n",
    "figsize = (16*cm,11*cm)\n",
    "line = ['71G+Ku+X4L4+NIHCO', '1 nM Ku + 10 nM X4L4 + 10nM NIHCOLE']"
   ]
  },
  {
   "cell_type": "markdown",
   "id": "7bbd0187",
   "metadata": {},
   "source": [
    "Plot the relative extension reduction and the dwell time distributions."
   ]
  },
  {
   "cell_type": "code",
   "execution_count": null,
   "id": "d325261a",
   "metadata": {},
   "outputs": [],
   "source": [
    "# PLOT FIGURES WITH COMPARATIVE TAU PLOT\n",
    "fig, axs = plt.subplots(figsize=figsize, nrows=2, sharex=False, sharey=False, \n",
    "                        gridspec_kw={'width_ratios':[1], 'height_ratios':[3,1], 'wspace':0.25, 'hspace':0.05,\n",
    "                                     'left':0.1, 'right':0.95, 'bottom':0.13, 'top':0.93})\n",
    "# -- first row\n",
    "xmin, xmax = -0.65, 0.15\n",
    "ymin, ymax = 0.01, 3.8\n",
    "coords=[xmin, ymin, xmax, ymax]\n",
    "axs[0].set(ylim=(ymin, ymax), xlim=(xmin, xmax), xlabel='Reduction in DNA extension, ∆z (µm)')\n",
    "proc.plot_distribution(dataset_merged, dataset_processed, line, coords, axs)\n",
    "    \n",
    "# -- second row \n",
    "condition, label = line\n",
    "tau = np.array(dataset_processed[condition]['time_rupture_merged'])/120\n",
    "mean = tau.mean()\n",
    "axs[1] = sns.violinplot(data=tau, scale='width',inner=None, cut=0, color='tomato') # scale=None, \n",
    "for violin in xbig.collections:\n",
    "    violin.set_linewidth(1)\n",
    "    violin.set_alpha(0.7)\n",
    "    violin.set_edgecolor('black')\n",
    "axs[1].scatter(x=1, y=mean, marker='o', s=25, color='black', edgecolor='white')\n",
    "axs[1].annotate(f'{round(mean,2)} s', xycoords='data', xy=(i, mean+0.5), size=10, ha='center', va='center')\n",
    "axs[1].set(ylim=(None, None), ylabel='Dwell time, t (s)', xticks=range(0, len(labels)))"
   ]
  },
  {
   "cell_type": "markdown",
   "id": "6a45a537",
   "metadata": {},
   "source": [
    "Save the figure."
   ]
  },
  {
   "cell_type": "code",
   "execution_count": null,
   "id": "e049314a",
   "metadata": {},
   "outputs": [],
   "source": [
    "path = os.path.join('figures',fig_name)\n",
    "plt.savefig(path+'.pdf', transparent=True)\n",
    "#plt.savefig(path+'.png', transparent=True)"
   ]
  }
 ],
 "metadata": {
  "kernelspec": {
   "display_name": "Python 3 (ipykernel)",
   "language": "python",
   "name": "python3"
  },
  "language_info": {
   "codemirror_mode": {
    "name": "ipython",
    "version": 3
   },
   "file_extension": ".py",
   "mimetype": "text/x-python",
   "name": "python",
   "nbconvert_exporter": "python",
   "pygments_lexer": "ipython3",
   "version": "3.9.7"
  }
 },
 "nbformat": 4,
 "nbformat_minor": 5
}
